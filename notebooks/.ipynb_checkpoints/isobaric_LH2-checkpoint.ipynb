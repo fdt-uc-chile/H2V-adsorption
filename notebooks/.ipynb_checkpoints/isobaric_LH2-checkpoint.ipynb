{
 "cells": [
  {
   "cell_type": "markdown",
   "metadata": {},
   "source": [
    "* This notebook sets up the isobaric evaporation of liquid hydrogen. \n",
    "\n",
    "* Coolprop will be called to retrieve the cryogen thermophysical properties. Hence, the cryogen will be specificied in the notebook\n",
    "\n",
    "## Input and output\n",
    "* Tank characteristics: .CSV file with tank geometrical properties\n",
    "* Cryogen: .CSV file with the cryogen ID consistent with coolprop\n",
    "* Popular cryogens: hydrogen, methane, nitrogen, oxygen.\n"
   ]
  },
  {
   "cell_type": "code",
   "execution_count": 12,
   "metadata": {},
   "outputs": [],
   "source": [
    "import sys\n",
    "\n",
    "sys.path.append(\"..\") # Adds higher directory to python modules path.\n",
    "\n",
    "import numpy as np\n",
    "import matplotlib.pyplot as plt\n",
    "import copy\n",
    "\n",
    "# from storage_tanks.tank import Tank\n",
    "from cryogens import Cryogen\n",
    "from storage_tanks import Tank"
   ]
  },
  {
   "cell_type": "code",
   "execution_count": 16,
   "metadata": {},
   "outputs": [
    {
     "data": {
      "text/plain": [
       "storage_tanks.tank.Tank"
      ]
     },
     "execution_count": 16,
     "metadata": {},
     "output_type": "execute_result"
    }
   ],
   "source": [
    "Tank"
   ]
  },
  {
   "cell_type": "code",
   "execution_count": 14,
   "metadata": {},
   "outputs": [],
   "source": [
    "# Cryogen thermophysical properties obtained from REFPROP 9.0\n",
    "\n",
    "# Nitrogen\n",
    "\n",
    "# k_V = 7.1744e-3   #  W/(m2K)\n",
    "# k_V_roof = k_V # Assume k_V_roof = k_V \n",
    "# rho_V = 162.65316 # mol/m^3\n",
    "# rho_L = 2.8793e4  # mol/m^3\n",
    "# cp_V = 31.4624    # J/molK\n",
    "# T_L = 77.2435     # /K\n",
    "# h_V = 2.2045e3    # J/kgK\n",
    "# h_L = -3.3132e3   # J/kgK\n",
    "# P = 100000        # Pa\n",
    "\n",
    "nitrogen = Cryogen(\"nitrogen\", P, T_L, rho_L, rho_V, h_L, h_V, k_V, cp_V)\n",
    "\n",
    "# Hydrogen\n",
    "\n",
    "k_V =    #  W/(m2K)\n",
    "k_V_roof = k_V # Assume k_V_roof = k_V \n",
    "rho_V = 660.8381    # mol/m^3\n",
    "rho_L = 35145.1207  # mol/m^3\n",
    "cp_V =     # J/molK\n",
    "T_L = 20.3689       # /K\n",
    "h_V =     # J/kgK\n",
    "h_L =    # J/kgK\n",
    "P = 101325        # Pa\n",
    "\n",
    "# Methane\n",
    "methane = Cryogen(\"methane\", 116325, 113.2534, 2.6205e4, 128.1975, \\\n",
    "                 98.9155, 8.2684e3, 0.0117, 35.7950)"
   ]
  },
  {
   "cell_type": "code",
   "execution_count": 22,
   "metadata": {},
   "outputs": [
    {
     "data": {
      "text/plain": [
       "0.004060436863039372"
      ]
     },
     "execution_count": 22,
     "metadata": {},
     "output_type": "execute_result"
    }
   ],
   "source": [
    "# Input tank properties\n",
    "Q_roof = 0 # W\n",
    "d_i = 76.4 # m\n",
    "d_o = 80   # m\n",
    "LF = 0.97 \n",
    "T_air = 293.15 # K\n",
    "U_V = 0.0371 # W/m^2K\n",
    "Q_b = 60000 # W, heat ingress from the bottom\n",
    "V_tank = 165000 #m^3\n",
    "LF = 0.97 # Initial liquid filling\n",
    "\n",
    "# Initialize tank\n",
    "large_tank = Tank(d_i, d_o, V_tank, LF)\n",
    "large_tank.set_HeatTransProps(U_V, U_V, Q_b, Q_roof, T_air)\n",
    "# large_tank.set_LF(LF)\n",
    "large_tank.cryogen = methane\n",
    "# Calculates advective velocity\n",
    "large_tank.v_z"
   ]
  },
  {
   "cell_type": "code",
   "execution_count": null,
   "metadata": {},
   "outputs": [],
   "source": []
  }
 ],
 "metadata": {
  "kernelspec": {
   "display_name": "Python 3 (ipykernel)",
   "language": "python",
   "name": "python3"
  },
  "language_info": {
   "codemirror_mode": {
    "name": "ipython",
    "version": 3
   },
   "file_extension": ".py",
   "mimetype": "text/x-python",
   "name": "python",
   "nbconvert_exporter": "python",
   "pygments_lexer": "ipython3",
   "version": "3.10.9"
  }
 },
 "nbformat": 4,
 "nbformat_minor": 2
}
