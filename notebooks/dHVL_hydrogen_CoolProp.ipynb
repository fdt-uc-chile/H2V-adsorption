{
 "cells": [
  {
   "cell_type": "code",
   "execution_count": 1,
   "id": "1f53e3d0",
   "metadata": {},
   "outputs": [],
   "source": [
    "import numpy as np\n",
    "from CoolProp.CoolProp import PropsSI\n",
    "import CoolProp.CoolProp as CP\n",
    "import matplotlib.pyplot as plt\n",
    "import CoolProp"
   ]
  },
  {
   "cell_type": "markdown",
   "id": "9ddd608d",
   "metadata": {},
   "source": [
    "* La documentación de CoolProp se encuentra en su página web: http://www.coolprop.org/.\n",
    "* Una sección relevante para la aplicación de este código es la [lista de fluidos disponibles](http://www.coolprop.org/fluid_properties/PurePseudoPure.html#list-of-fluids)"
   ]
  },
  {
   "cell_type": "code",
   "execution_count": 2,
   "id": "f905a42e",
   "metadata": {},
   "outputs": [
    {
     "name": "stdout",
     "output_type": "stream",
     "text": [
      "H_V: 904.548416769141 J/mol\n",
      "H_L: 7.488532055073726e-09 J/mol\n",
      "\n",
      "dH_LV: 904.5484167616524 J/mol\n"
     ]
    }
   ],
   "source": [
    "# Entalpía de vapor saturado a 1 atm (101325 Pa)\n",
    "H_V = CP.PropsSI('HMOLAR','P',101325,'Q',1,'Hydrogen') # J/mol\n",
    "\n",
    "# Entalpía de líquido saturado a 1 atm (101325 Pa)\n",
    "H_L = CP.PropsSI('HMOLAR','P',101325,'Q',0,'Hydrogen') # J/mol\n",
    "\n",
    "print(f'H_V: {H_V} J/mol\\nH_L: {H_L} J/mol')\n",
    "print(f'\\ndH_LV: {H_V - H_L} J/mol')"
   ]
  },
  {
   "cell_type": "code",
   "execution_count": 9,
   "id": "6235d7b1",
   "metadata": {},
   "outputs": [
    {
     "name": "stdout",
     "output_type": "stream",
     "text": [
      "448711.4395545077\n",
      "3.714770747799337e-06\n"
     ]
    }
   ],
   "source": [
    "# Enthalpy of saturated vapor at 1 atm\n",
    "h_V = CP.PropsSI('H','P',101325,'Q',1,'Hydrogen') # J/kg\n",
    "\n",
    "# Enthalpy of saturated liquid at 1 atm\n",
    "h_L = CP.PropsSI('H','P',101325,'Q',0,'Hydrogen') # J/kg\n",
    "\n",
    "print(h_V)\n",
    "print(h_L)"
   ]
  },
  {
   "cell_type": "code",
   "execution_count": 4,
   "id": "290b932a",
   "metadata": {},
   "outputs": [
    {
     "name": "stdout",
     "output_type": "stream",
     "text": [
      "rho_V: 660.8381093820656 mol/m^3 \n",
      "rho_L: 35145.12069500098 mol/m^3\n"
     ]
    }
   ],
   "source": [
    "# Density of saturated vapor at 1 atm\n",
    "rho_V = CP.PropsSI('DMOLAR','P',101325,'Q',1,'Hydrogen') # mol/m^3\n",
    "\n",
    "# Density of saturated liquid at 1 atm\n",
    "rho_L = CP.PropsSI('DMOLAR','P',101325,'Q',0,'Hydrogen') # mol/m^3\n",
    "\n",
    "print(f'rho_V: {rho_V} mol/m^3 \\nrho_L: {rho_L} mol/m^3')"
   ]
  },
  {
   "cell_type": "code",
   "execution_count": 5,
   "id": "fcb0aedf",
   "metadata": {},
   "outputs": [
    {
     "name": "stdout",
     "output_type": "stream",
     "text": [
      "T_L: 20.36890353912102 K\n"
     ]
    }
   ],
   "source": [
    "# Boiling Temperature at 1 atm\n",
    "T_L = CP.PropsSI('T', 'P',101325,'Q',0,'Hydrogen') # K\n",
    "\n",
    "print(f'T_L: {T_L} K')"
   ]
  },
  {
   "cell_type": "code",
   "execution_count": 6,
   "id": "0742d790",
   "metadata": {},
   "outputs": [
    {
     "name": "stdout",
     "output_type": "stream",
     "text": [
      "cp_V: 24.264180273486833 J/molK\n"
     ]
    }
   ],
   "source": [
    "# Sensible heat of steam at 1 atm\n",
    "cp_V = CP.PropsSI('CPMOLAR','P',101325,'Q',1,'Hydrogen') # J/molK\n",
    "\n",
    "print(f'cp_V: {cp_V} J/molK')"
   ]
  },
  {
   "cell_type": "markdown",
   "id": "1f6bfe0b",
   "metadata": {},
   "source": [
    "### REFPROP"
   ]
  },
  {
   "cell_type": "code",
   "execution_count": 8,
   "id": "1496311d",
   "metadata": {},
   "outputs": [
    {
     "name": "stdout",
     "output_type": "stream",
     "text": [
      "451024.6795559115\n"
     ]
    }
   ],
   "source": [
    "# Enthalpy of saturated vapor at 1 atm\n",
    "h_V = CP.PropsSI('H','P',101325,'Q',1,'PR::Hydrogen') # J/kg\n",
    "\n",
    "print(h_V)"
   ]
  },
  {
   "cell_type": "code",
   "execution_count": null,
   "id": "9cf20cf4",
   "metadata": {},
   "outputs": [],
   "source": []
  }
 ],
 "metadata": {
  "kernelspec": {
   "display_name": "Python 3 (ipykernel)",
   "language": "python",
   "name": "python3"
  },
  "language_info": {
   "codemirror_mode": {
    "name": "ipython",
    "version": 3
   },
   "file_extension": ".py",
   "mimetype": "text/x-python",
   "name": "python",
   "nbconvert_exporter": "python",
   "pygments_lexer": "ipython3",
   "version": "3.10.9"
  }
 },
 "nbformat": 4,
 "nbformat_minor": 5
}
