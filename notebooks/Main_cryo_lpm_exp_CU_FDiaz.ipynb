{
 "cells": [
  {
   "cell_type": "markdown",
   "id": "1decc410",
   "metadata": {},
   "source": [
    "#### Implementación Lumped Parameter Model for adsorption, Xiao et al. (2013)\n",
    "\n",
    "Contribuidores:\n",
    "* Kieran Conradie\n",
    "* Carlos Ullrich\n",
    "* Felipe Huerta\n",
    "* Felipe Díaz"
   ]
  },
  {
   "cell_type": "code",
   "execution_count": 1,
   "id": "c2b3783d",
   "metadata": {},
   "outputs": [],
   "source": [
    "# Integración numérica de sistemas de ecuaciones diferenciales ordinarias\n",
    "from scipy.integrate import solve_ivp\n",
    "\n",
    "# Minimización de funciones objetivos para ajuste de parámetros\n",
    "from scipy.optimize import least_squares\n",
    "\n",
    "# Ecuaciones no lineales\n",
    "from scipy.optimize import fsolve\n",
    "\n",
    "# Computación científica\n",
    "import numpy as np\n",
    "\n",
    "# Gráficos\n",
    "import matplotlib.pyplot as plt\n",
    "# Copiar variables creando nuevos objetos\n",
    "import copy\n",
    "\n",
    "# Procesamiento de datos\n",
    "# Importar pandas para cargar datos desde archivos .csv y otros\n",
    "import pandas as pd\n",
    "# CSV puro y duro\n",
    "import csv\n",
    "\n",
    "# Funciones creadas anteriormente\n",
    "import lpm_functions as f"
   ]
  },
  {
   "cell_type": "markdown",
   "id": "4b5fb5b6",
   "metadata": {},
   "source": [
    "Las funciones p_eqn, adsorcion_hidrogeno y resolver_modelo se movieron al archivo lpm_functions.py y se importan en la celda anterior"
   ]
  },
  {
   "cell_type": "markdown",
   "id": "2a1aed54",
   "metadata": {},
   "source": [
    "#### Parametros, condiciones y solve_ivp"
   ]
  },
  {
   "cell_type": "markdown",
   "id": "a01791e9",
   "metadata": {},
   "source": [
    "Parámetros asociados a la mezcla"
   ]
  },
  {
   "cell_type": "code",
   "execution_count": 2,
   "id": "de864ba5",
   "metadata": {},
   "outputs": [],
   "source": [
    "# Propiedades termofísicas\n",
    "\n",
    "# Calores especificos\n",
    "\n",
    "c_p = 10167 # Calor especifico del hidrogeno (J kg-1 K-1)\n",
    "\n",
    "\n",
    "# K: Originalmente estaba dado en J, por eso el /1000\n",
    "# F: Sugerencia: ocupar unidades SI lo más posible\n",
    "\n",
    "# Constantes \n",
    "R = 8.314 # J mol-1 K-1\n",
    "alpha = 3080 # Factor entalpico (J mol-1)\n",
    "beta = 18.9 # Factor entropico (J mol-1 K-1)\n",
    "epsilon_b = 0.49 \n",
    "b = 2"
   ]
  },
  {
   "cell_type": "markdown",
   "id": "28945922",
   "metadata": {},
   "source": [
    "Equilibrio de adsorción"
   ]
  },
  {
   "cell_type": "code",
   "execution_count": 3,
   "id": "0297cf97",
   "metadata": {},
   "outputs": [],
   "source": [
    "# Otros\n",
    "p_0 = 1470 * 1e6 # Presion de saturacion (Pa)\n",
    "n_0 = 71.6 # Cantidad limite de adsorcion (mol kg-1)"
   ]
  },
  {
   "cell_type": "markdown",
   "id": "3b69de85",
   "metadata": {},
   "source": [
    "Parámetros asociados al tanque"
   ]
  },
  {
   "cell_type": "code",
   "execution_count": 4,
   "id": "7c7770b5",
   "metadata": {},
   "outputs": [
    {
     "name": "stdout",
     "output_type": "stream",
     "text": [
      "3.134270230872731\n"
     ]
    }
   ],
   "source": [
    "# PARAMETROS\n",
    "\n",
    "# Dimensiones estanque\n",
    "# V = 0.00015 # Volumen de estanque (m^3)    # No se si es volumen interno\n",
    "# l = 0.133 # m, alto del tanque\n",
    "\n",
    "V = 6.365 # Volumen tanque (m^3)  Obtenido de Linde\n",
    "d = 1.608 # Diametro tanque (m)   Obtenido de Linde\n",
    "l = 4*V/(np.pi*(d**2)) # altura estque (m)\n",
    "A_e = 2*np.pi*l # Área superficial estanque m^2  # considere manto cilindro superficial (no contamos \"tapas\")\n",
    "\n",
    "print(l)\n",
    "\n",
    "# Masas (TENGO QUE CAMBIARLAS)\n",
    "# m_s = 0.671 # masa carbón activado (kg)    # datos del carbono, considerar que está lleno a un 30%.\n",
    "# m_w = 3.714 # Masa paredes de acero (kg)   # datos del carbono\n",
    "\n",
    "m_s = (0.3*V)*107.9 # Masa carbón activado (kg/m^3) [tanque lleno al 30%]\n",
    "m_w = 4910 # Masa tanque (kg)\n",
    "M_H2 = 2.0159E-3 # Masa molar del hidrogeno (kg mol-1)\n",
    "\n",
    "c_s = 825 # Calor especifico del carbón activado (J kg-1 K-1)     # datos del carbono\n",
    "c_w = 500 # Calor especifico paredes de acero (J kg-1 K-1)    # este es a 20°C segun internet\n",
    "\n",
    "\n",
    "# CONDICIONES INICIALES\n",
    "p_ci = np.array([1.01235, 1.01235, 1.01235])*1e5 #Pa\n",
    "T_ci = np.array([283, 283, 273]) #K \n",
    "\n",
    "# Temperatura del refrigerante\n",
    "T_cf = np.array([282.5, 284.5, 282.2]) #K\n",
    "\n",
    "# Coeficiente de transferencia de calor\n",
    "# Calculado en Jupyter Notebook separado\n",
    "h_cf = np.array([3.6, 3.6, 3.6]) # W m^-2 K^-1\n",
    "\n",
    "# Flujos másicos referenciales (TENGO QUE CAMBIARLO)\n",
    "# Flujos de carga típicos 50 cm^3 / min\n",
    "# m_cdot = np.array([3.46e-4, 3.46e-4, 3.46e-4])       # kg s-1\n",
    "m_cdot = np.array([0.021, 0.021, 0.021])\n",
    "\n",
    "# Lista de tiempos: Inicial, fin carga, inicio descarga\n",
    "t_c0 =  np.array([0, 0, 0])           # s\n",
    "t_cf = np.array([1042, 422, 175])          # s   # falta realizar exp\n",
    "t_cd = np.array([3189, 2622, 2382])          # s   # falta realizar exp\n",
    "\n",
    "# Entalpías de entrada y salida\n",
    "h_in = np.array([3986.8, 4001.1, 3987.2])  # J/kg  # no alcance a buscar tablas\n",
    "h_out = np.array([3718.8, 3752.6, 3719.3]) # J/kg  # no alcance a buscar tablas"
   ]
  },
  {
   "cell_type": "code",
   "execution_count": 5,
   "id": "2888a7b4",
   "metadata": {},
   "outputs": [
    {
     "name": "stdout",
     "output_type": "stream",
     "text": [
      "rho 8.068e-02 kg/(m^3)\n"
     ]
    }
   ],
   "source": [
    "# Presión de la alimentación\n",
    "p_a = 1e5\n",
    "R = 8.314 \n",
    "T_alimentación = 298.15 # 25°C\n",
    "\n",
    "# pv = nRT\n",
    "# p = (n/v) * R * T\n",
    "# rho = p/RT # mol/m^3\n",
    "# rho = p/RT * 0.002 kg / mol\n",
    "\n",
    "rho = p_a/(R*T_alimentación) * 0.002\n",
    "print(\"rho %.3e kg/(m^3)\" % rho)"
   ]
  },
  {
   "cell_type": "code",
   "execution_count": 6,
   "id": "fe69cb32",
   "metadata": {},
   "outputs": [],
   "source": [
    "rho_cgs = rho * 1e3 /(1e6)"
   ]
  },
  {
   "cell_type": "markdown",
   "id": "cbd1dd25",
   "metadata": {},
   "source": [
    "$\\rho = 2.82 mg/cm$^3$"
   ]
  },
  {
   "cell_type": "code",
   "execution_count": 7,
   "id": "7e3c992b",
   "metadata": {},
   "outputs": [
    {
     "name": "stdout",
     "output_type": "stream",
     "text": [
      "mdot_final = 6.724e-11 kg/s\n"
     ]
    }
   ],
   "source": [
    "F = 50 / 60 #cm^3 / s\n",
    "\n",
    "# flujo másico en mg/s\n",
    "mdot_cgs = rho_cgs * F\n",
    "\n",
    "mdot_final = mdot_cgs/1e6\n",
    "\n",
    "print(\"mdot_final = %.3e kg/s\" % mdot_final )"
   ]
  },
  {
   "cell_type": "markdown",
   "id": "6a49f1ce",
   "metadata": {},
   "source": [
    "#### Implementación del modelo"
   ]
  },
  {
   "cell_type": "markdown",
   "id": "64fe4ab7",
   "metadata": {},
   "source": [
    "La función resolver_modelo se movió al archivo lpm_functions.py"
   ]
  },
  {
   "cell_type": "code",
   "execution_count": 8,
   "id": "66dd53c3",
   "metadata": {},
   "outputs": [
    {
     "name": "stdout",
     "output_type": "stream",
     "text": [
      "dmdt 0.021\n",
      "dTdt [0.0329511]\n",
      "dmdt 0.021\n",
      "dTdt [0.03290444]\n",
      "dmdt 0.021\n",
      "dTdt [0.0329511]\n",
      "dmdt 0.021\n",
      "dTdt [0.0329511]\n",
      "dmdt 0.021\n",
      "dTdt [0.0329511]\n",
      "dmdt 0.021\n",
      "dTdt [0.03294762]\n",
      "dmdt 0.021\n",
      "dTdt [0.03294762]\n",
      "dmdt 0.021\n",
      "dTdt [0.03294414]\n",
      "dmdt 0.021\n",
      "dTdt [0.03294414]\n",
      "dmdt 0.021\n",
      "dTdt [0.03290959]\n",
      "dmdt 0.021\n",
      "dTdt [0.03290959]\n",
      "dmdt 0.021\n",
      "dTdt [0.03287539]\n",
      "dmdt 0.021\n",
      "dTdt [0.03287539]\n",
      "dmdt 0.021\n",
      "dTdt [0.03255142]\n",
      "dmdt 0.021\n",
      "dTdt [0.03255142]\n",
      "dmdt 0.021\n",
      "dTdt [0.03225612]\n",
      "dmdt 0.021\n",
      "dTdt [0.03225612]\n",
      "dmdt 0.021\n",
      "dTdt [0.03020354]\n",
      "dmdt 0.021\n",
      "dTdt [0.03020364]\n",
      "dmdt 0.021\n",
      "dTdt [0.02892982]\n",
      "dmdt 0.021\n",
      "dTdt [0.02892992]\n",
      "dmdt 0.021\n",
      "dTdt [0.02495363]\n",
      "dmdt 0.021\n",
      "dTdt [0.02495693]\n",
      "dmdt 0.021\n",
      "dTdt [0.02303103]\n",
      "dmdt 0.021\n",
      "dTdt [0.02303343]\n",
      "dmdt 0.021\n",
      "dTdt [0.02053196]\n",
      "dmdt 0.021\n",
      "dTdt [0.020527]\n",
      "dmdt 0.021\n",
      "dTdt [0.01888427]\n",
      "dmdt 0.021\n",
      "dTdt [0.01888124]\n",
      "dmdt 0.021\n",
      "dTdt [0.01762614]\n",
      "dmdt 0.021\n",
      "dTdt [0.01762435]\n",
      "dmdt 0.021\n",
      "dTdt [0.01643739]\n",
      "dmdt 0.021\n",
      "dTdt [0.01643592]\n"
     ]
    }
   ],
   "source": [
    "parametros_1 = np.array([p_ci, T_ci, T_cf, h_cf, m_cdot, t_c0, t_cf, t_cd, h_in, h_out])\n",
    "parametros_2 = np.array([c_p, R, alpha, beta, epsilon_b, b, p_0, n_0, V, l, A_e, m_s, m_w, M_H2, c_s, c_w])\n",
    "\n",
    "t_result, m_t_result, T_result, p_i = f.resolver_modelo(0, parametros_1, parametros_2)\n"
   ]
  },
  {
   "cell_type": "markdown",
   "id": "b24bd65a",
   "metadata": {},
   "source": [
    "#### Gráfico Temperatura"
   ]
  },
  {
   "cell_type": "code",
   "execution_count": 9,
   "id": "159fe4a9",
   "metadata": {},
   "outputs": [
    {
     "data": {
      "image/png": "[encoded data removed]",
      "text/plain": [
       "<Figure size 640x480 with 1 Axes>"
      ]
     },
     "metadata": {},
     "output_type": "display_data"
    }
   ],
   "source": [
    "# Temperatura\n",
    "plt.plot(t_result, T_result, label='mod')\n",
    "### Validación experimental: ocupando datos previamente cargados y definidos para carga\n",
    "\n",
    "# Graficamos los experimentos\n",
    "#plt.plot(t_exp_T_c, T_exp_c, label='exp', marker ='o', ls='', color='k')\n",
    "\n",
    "# Estética\n",
    "plt.xlabel('t [s]', size = 12)\n",
    "plt.ylabel('T [K]', size = 12)\n",
    "\n",
    "# Visualización\n",
    "plt.legend()\n",
    "plt.show()"
   ]
  },
  {
   "cell_type": "markdown",
   "id": "7b7d0625",
   "metadata": {},
   "source": [
    "#### Cálculo Presión"
   ]
  },
  {
   "cell_type": "code",
   "execution_count": 10,
   "id": "a30d7662",
   "metadata": {},
   "outputs": [
    {
     "name": "stdout",
     "output_type": "stream",
     "text": [
      "En el indice [0] la presión es: 93566.39239792501 Pa\n",
      "7671438.085198521\n"
     ]
    }
   ],
   "source": [
    "# Como calculamos P, m_a y m_g?\n",
    "p = []\n",
    "\n",
    "for i in range(len(T_result)):\n",
    "    # Se encuentra el valor de la presión mediante la función fsolve   (agregué m_t_result[i], porque m_t[i] no está definido)\n",
    "    p_inst = fsolve(f.p_eqn, p_i, args = (n_0, R, T_result[i], alpha, beta, b, p_0, M_H2, m_s, V, epsilon_b, m_t_result[i]))\n",
    "    # Se extrae el valor en el indice 0 porque p_inst es de la forma [float]\n",
    "    # Se divide en 1e6 para pasar de Pa a MPa\n",
    "    p_inst = p_inst[0]\n",
    "    \n",
    "    if i % 100000 == 0:\n",
    "        print(f'En el indice [{i}] la presión es: {p_inst} Pa')\n",
    "\n",
    "    p.append(p_inst)\n",
    "\n",
    "p = np.array(p)\n",
    "print(p[-1])"
   ]
  },
  {
   "cell_type": "markdown",
   "id": "7c472b44",
   "metadata": {},
   "source": [
    "#### Gráfico Presión"
   ]
  },
  {
   "cell_type": "code",
   "execution_count": 11,
   "id": "c2676014",
   "metadata": {},
   "outputs": [
    {
     "data": {
      "image/png": "[encoded data removed]",
      "text/plain": [
       "<Figure size 640x480 with 1 Axes>"
      ]
     },
     "metadata": {},
     "output_type": "display_data"
    }
   ],
   "source": [
    "# Presión\n",
    "plt.plot(t_result, p/1e6, label='mod')\n",
    "\n",
    "\n",
    "### Validación experimental: ocupando datos previamente cargados y definidos para carga\n",
    "\n",
    "# Graficamos los experimentos\n",
    "#plt.plot(t_exp_p_c, p_exp_c, label='exp', marker ='o', ls='', color='k')\n",
    "\n",
    "# Estética\n",
    "plt.xlabel('t [s]', size = 12)\n",
    "plt.ylabel('p [MPa]', size = 12)\n",
    "\n",
    "# Visualización\n",
    "plt.legend()\n",
    "plt.show()"
   ]
  },
  {
   "cell_type": "markdown",
   "id": "3b6a2642",
   "metadata": {},
   "source": [
    "#### Gráfico masa fase adsorbida y fase gaseosa"
   ]
  },
  {
   "cell_type": "code",
   "execution_count": 12,
   "id": "221c502c",
   "metadata": {},
   "outputs": [
    {
     "data": {
      "image/png": "[encoded data removed]",
      "text/plain": [
       "<Figure size 500x500 with 1 Axes>"
      ]
     },
     "metadata": {},
     "output_type": "display_data"
    }
   ],
   "source": [
    "# Calcular los valores de masa y gas\n",
    "n_a = n_0*np.exp(-((R*T_result)/(alpha+beta*T_result))**b * np.log(p_0/p)**b)\n",
    "m_a = n_a*M_H2*m_s\n",
    "m_a = np.array(m_a)\n",
    "m_g = M_H2*p*(V*epsilon_b)/(R*T_result) \n",
    "\n",
    "# Graficar las líneas\n",
    "plt.figure(figsize=[5, 5])\n",
    "plt.plot(t_result, m_t_result, label='m_t')\n",
    "plt.plot(t_result, m_a, label='m_a')\n",
    "plt.plot(t_result, m_g, label='m_g')\n",
    "plt.plot(t_result, m_g + m_a, \"r--\", label='m_g + m_a')\n",
    "\n",
    "# Agregar leyendas al gráfico\n",
    "plt.legend()\n",
    "\n",
    "# Agrandar el tamaño de los números en el gráfico\n",
    "plt.tick_params(labelsize=12)\n",
    "plt.xlabel('t [s]', size=12)\n",
    "plt.ylabel('m [kg]', size=12)\n",
    "\n",
    "# Mostrar el gráfico\n",
    "plt.show()"
   ]
  },
  {
   "cell_type": "code",
   "execution_count": null,
   "id": "c52970c1",
   "metadata": {},
   "outputs": [],
   "source": []
  }
 ],
 "metadata": {
  "kernelspec": {
   "display_name": "Python 3 (ipykernel)",
   "language": "python",
   "name": "python3"
  },
  "language_info": {
   "codemirror_mode": {
    "name": "ipython",
    "version": 3
   },
   "file_extension": ".py",
   "mimetype": "text/x-python",
   "name": "python",
   "nbconvert_exporter": "python",
   "pygments_lexer": "ipython3",
   "version": "3.10.9"
  }
 },
 "nbformat": 4,
 "nbformat_minor": 5
}
